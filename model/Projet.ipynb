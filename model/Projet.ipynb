{
 "cells": [
  {
   "cell_type": "code",
   "execution_count": 24,
   "id": "2be556a8",
   "metadata": {},
   "outputs": [],
   "source": [
    "import pandas as pd\n",
    "import numpy as np\n",
    "import seaborn as sns\n",
    "import matplotlib.pyplot as plt\n",
    "from scipy import stats\n",
    "import warnings\n",
    "warnings.filterwarnings('ignore')\n",
    "from matplotlib import pyplot as plt\n",
    "%matplotlib inline\n",
    "import matplotlib \n",
    "matplotlib.rcParams[\"figure.figsize\"] = (20,10)"
   ]
  },
  {
   "cell_type": "code",
   "execution_count": 25,
   "id": "8db8d92d",
   "metadata": {},
   "outputs": [],
   "source": [
    "data = pd.read_csv('all_perth_310121.csv')"
   ]
  },
  {
   "cell_type": "code",
   "execution_count": 26,
   "id": "2b4d457b",
   "metadata": {},
   "outputs": [],
   "source": [
    "data1 = data.drop(['ADDRESS','CBD_DIST','NEAREST_STN','NEAREST_STN_DIST','DATE_SOLD','POSTCODE','LATITUDE','LONGITUDE','NEAREST_SCH','NEAREST_SCH_DIST','NEAREST_SCH_RANK'],axis='columns')"
   ]
  },
  {
   "cell_type": "code",
   "execution_count": 27,
   "id": "3be84ba2",
   "metadata": {},
   "outputs": [
    {
     "data": {
      "text/plain": [
       "SUBURB        0\n",
       "PRICE         0\n",
       "BEDROOMS      0\n",
       "BATHROOMS     0\n",
       "GARAGE        0\n",
       "LAND_AREA     0\n",
       "FLOOR_AREA    0\n",
       "BUILD_YEAR    0\n",
       "dtype: int64"
      ]
     },
     "execution_count": 27,
     "metadata": {},
     "output_type": "execute_result"
    }
   ],
   "source": [
    "data2 = data1.dropna()\n",
    "data2.isnull().sum()"
   ]
  },
  {
   "cell_type": "code",
   "execution_count": 28,
   "id": "105b0c5a",
   "metadata": {},
   "outputs": [
    {
     "data": {
      "text/plain": [
       "(28252, 8)"
      ]
     },
     "execution_count": 28,
     "metadata": {},
     "output_type": "execute_result"
    }
   ],
   "source": [
    "data3 = data2[data2.BATHROOMS<data2.BEDROOMS+2]\n",
    "data3.shape"
   ]
  },
  {
   "cell_type": "code",
   "execution_count": 45,
   "id": "b7e09ab6",
   "metadata": {},
   "outputs": [
    {
     "data": {
      "text/plain": [
       "(0, 8)"
      ]
     },
     "execution_count": 45,
     "metadata": {},
     "output_type": "execute_result"
    }
   ],
   "source": [
    "data9 = data3[data3.FLOOR_AREA>data3.LAND_AREA]\n",
    "data9.shape"
   ]
  },
  {
   "cell_type": "code",
   "execution_count": 29,
   "id": "74f57378",
   "metadata": {},
   "outputs": [
    {
     "data": {
      "text/plain": [
       "Bertram          204\n",
       "Henley Brook     198\n",
       "Jane Brook       195\n",
       "Merriwa          193\n",
       "Mindarie         192\n",
       "                ... \n",
       "Neerabup           6\n",
       "Hope Valley        3\n",
       "Munster            1\n",
       "Kwinana Beach      1\n",
       "Wangara            1\n",
       "Name: SUBURB, Length: 317, dtype: int64"
      ]
     },
     "execution_count": 29,
     "metadata": {},
     "output_type": "execute_result"
    }
   ],
   "source": [
    "data3.SUBURB = data3.SUBURB.apply(lambda x: x.strip())\n",
    "location_stats = data3['SUBURB'].value_counts(ascending=False)\n",
    "location_stats"
   ]
  },
  {
   "cell_type": "code",
   "execution_count": 30,
   "id": "4119924d",
   "metadata": {},
   "outputs": [
    {
     "data": {
      "text/plain": [
       "314"
      ]
     },
     "execution_count": 30,
     "metadata": {},
     "output_type": "execute_result"
    }
   ],
   "source": [
    "location_stats_less_than_5 = location_stats[location_stats<=5]\n",
    "data3.SUBURB = data3.SUBURB.apply(lambda x: 'other' if x in location_stats_less_than_5 else x)\n",
    "len(data3.SUBURB.unique())"
   ]
  },
  {
   "cell_type": "code",
   "execution_count": 31,
   "id": "74609030",
   "metadata": {},
   "outputs": [
    {
     "data": {
      "image/png": "[encoded data removed]",
      "text/plain": [
       "<Figure size 1080x720 with 1 Axes>"
      ]
     },
     "metadata": {
      "needs_background": "light"
     },
     "output_type": "display_data"
    }
   ],
   "source": [
    "def plot_scatter_chart(df,SUBURB):\n",
    "    bhk2 = df[(df.SUBURB==SUBURB) & (df.BEDROOMS==2)]\n",
    "    bhk3 = df[(df.SUBURB==SUBURB) & (df.BEDROOMS==3)]\n",
    "    matplotlib.rcParams['figure.figsize'] = (15,10)\n",
    "    plt.scatter(bhk2.LAND_AREA,bhk2.PRICE,color='blue',label='2 BHK', s=50)\n",
    "    plt.scatter(bhk3.LAND_AREA,bhk3.PRICE,marker='+', color='green',label='3 BHK', s=50)\n",
    "    plt.xlabel(\"Total Square Feet Area\")\n",
    "    plt.ylabel(\"Price \")\n",
    "    plt.title(SUBURB)\n",
    "    plt.legend()\n",
    "    \n",
    "plot_scatter_chart(data3,\"South Lake\")"
   ]
  },
  {
   "cell_type": "code",
   "execution_count": 32,
   "id": "6a74a6db",
   "metadata": {},
   "outputs": [
    {
     "data": {
      "text/plain": [
       "(24036, 8)"
      ]
     },
     "execution_count": 32,
     "metadata": {},
     "output_type": "execute_result"
    }
   ],
   "source": [
    "def remove_bhk_outliers(df):\n",
    "    exclude_indices = np.array([])\n",
    "    for location, location_df in df.groupby('SUBURB'):\n",
    "        bhk_stats = {}\n",
    "        for bhk, bhk_df in location_df.groupby('BEDROOMS'):\n",
    "            bhk_stats[bhk] = {\n",
    "                'mean': np.mean(bhk_df.PRICE),\n",
    "                'std': np.std(bhk_df.PRICE),\n",
    "                'count': bhk_df.shape[0]\n",
    "            }\n",
    "        for bhk, bhk_df in location_df.groupby('BEDROOMS'):\n",
    "            stats = bhk_stats.get(bhk-1)\n",
    "            if stats and stats['count']>5:\n",
    "                exclude_indices = np.append(exclude_indices, bhk_df[bhk_df.PRICE<(stats['mean'])].index.values)\n",
    "    return df.drop(exclude_indices,axis='index')\n",
    "data4 = remove_bhk_outliers(data3)\n",
    "data4.shape"
   ]
  },
  {
   "cell_type": "code",
   "execution_count": 33,
   "id": "a0b18d97",
   "metadata": {},
   "outputs": [
    {
     "data": {
      "text/html": [
       "<div>\n",
       "<style scoped>\n",
       "    .dataframe tbody tr th:only-of-type {\n",
       "        vertical-align: middle;\n",
       "    }\n",
       "\n",
       "    .dataframe tbody tr th {\n",
       "        vertical-align: top;\n",
       "    }\n",
       "\n",
       "    .dataframe thead th {\n",
       "        text-align: right;\n",
       "    }\n",
       "</style>\n",
       "<table border=\"1\" class=\"dataframe\">\n",
       "  <thead>\n",
       "    <tr style=\"text-align: right;\">\n",
       "      <th></th>\n",
       "      <th>SUBURB</th>\n",
       "      <th>PRICE</th>\n",
       "      <th>BEDROOMS</th>\n",
       "      <th>BATHROOMS</th>\n",
       "      <th>GARAGE</th>\n",
       "      <th>LAND_AREA</th>\n",
       "      <th>FLOOR_AREA</th>\n",
       "      <th>BUILD_YEAR</th>\n",
       "      <th>Alexander Heights</th>\n",
       "      <th>Alfred Cove</th>\n",
       "      <th>...</th>\n",
       "      <th>Wilson</th>\n",
       "      <th>Winthrop</th>\n",
       "      <th>Woodbridge</th>\n",
       "      <th>Woodlands</th>\n",
       "      <th>Woodvale</th>\n",
       "      <th>Wooroloo</th>\n",
       "      <th>Wungong</th>\n",
       "      <th>Yanchep</th>\n",
       "      <th>Yangebup</th>\n",
       "      <th>Yokine</th>\n",
       "    </tr>\n",
       "  </thead>\n",
       "  <tbody>\n",
       "    <tr>\n",
       "      <th>0</th>\n",
       "      <td>South Lake</td>\n",
       "      <td>565000</td>\n",
       "      <td>4</td>\n",
       "      <td>2</td>\n",
       "      <td>2.0</td>\n",
       "      <td>600</td>\n",
       "      <td>160</td>\n",
       "      <td>2003.0</td>\n",
       "      <td>0</td>\n",
       "      <td>0</td>\n",
       "      <td>...</td>\n",
       "      <td>0</td>\n",
       "      <td>0</td>\n",
       "      <td>0</td>\n",
       "      <td>0</td>\n",
       "      <td>0</td>\n",
       "      <td>0</td>\n",
       "      <td>0</td>\n",
       "      <td>0</td>\n",
       "      <td>0</td>\n",
       "      <td>0</td>\n",
       "    </tr>\n",
       "    <tr>\n",
       "      <th>1</th>\n",
       "      <td>Wandi</td>\n",
       "      <td>365000</td>\n",
       "      <td>3</td>\n",
       "      <td>2</td>\n",
       "      <td>2.0</td>\n",
       "      <td>351</td>\n",
       "      <td>139</td>\n",
       "      <td>2013.0</td>\n",
       "      <td>0</td>\n",
       "      <td>0</td>\n",
       "      <td>...</td>\n",
       "      <td>0</td>\n",
       "      <td>0</td>\n",
       "      <td>0</td>\n",
       "      <td>0</td>\n",
       "      <td>0</td>\n",
       "      <td>0</td>\n",
       "      <td>0</td>\n",
       "      <td>0</td>\n",
       "      <td>0</td>\n",
       "      <td>0</td>\n",
       "    </tr>\n",
       "    <tr>\n",
       "      <th>2</th>\n",
       "      <td>Camillo</td>\n",
       "      <td>287000</td>\n",
       "      <td>3</td>\n",
       "      <td>1</td>\n",
       "      <td>1.0</td>\n",
       "      <td>719</td>\n",
       "      <td>86</td>\n",
       "      <td>1979.0</td>\n",
       "      <td>0</td>\n",
       "      <td>0</td>\n",
       "      <td>...</td>\n",
       "      <td>0</td>\n",
       "      <td>0</td>\n",
       "      <td>0</td>\n",
       "      <td>0</td>\n",
       "      <td>0</td>\n",
       "      <td>0</td>\n",
       "      <td>0</td>\n",
       "      <td>0</td>\n",
       "      <td>0</td>\n",
       "      <td>0</td>\n",
       "    </tr>\n",
       "  </tbody>\n",
       "</table>\n",
       "<p>3 rows × 321 columns</p>\n",
       "</div>"
      ],
      "text/plain": [
       "       SUBURB   PRICE  BEDROOMS  BATHROOMS  GARAGE  LAND_AREA  FLOOR_AREA  \\\n",
       "0  South Lake  565000         4          2     2.0        600         160   \n",
       "1       Wandi  365000         3          2     2.0        351         139   \n",
       "2     Camillo  287000         3          1     1.0        719          86   \n",
       "\n",
       "   BUILD_YEAR  Alexander Heights  Alfred Cove  ...  Wilson  Winthrop  \\\n",
       "0      2003.0                  0            0  ...       0         0   \n",
       "1      2013.0                  0            0  ...       0         0   \n",
       "2      1979.0                  0            0  ...       0         0   \n",
       "\n",
       "   Woodbridge  Woodlands  Woodvale  Wooroloo  Wungong  Yanchep  Yangebup  \\\n",
       "0           0          0         0         0        0        0         0   \n",
       "1           0          0         0         0        0        0         0   \n",
       "2           0          0         0         0        0        0         0   \n",
       "\n",
       "   Yokine  \n",
       "0       0  \n",
       "1       0  \n",
       "2       0  \n",
       "\n",
       "[3 rows x 321 columns]"
      ]
     },
     "execution_count": 33,
     "metadata": {},
     "output_type": "execute_result"
    }
   ],
   "source": [
    "dummies = pd.get_dummies(data4.SUBURB)\n",
    "data5 = pd.concat([data4,dummies.drop('other',axis='columns')],axis='columns')\n",
    "data5.head(3)"
   ]
  },
  {
   "cell_type": "code",
   "execution_count": 34,
   "id": "eb136f15",
   "metadata": {},
   "outputs": [
    {
     "data": {
      "text/plain": [
       "(24036, 320)"
      ]
     },
     "execution_count": 34,
     "metadata": {},
     "output_type": "execute_result"
    }
   ],
   "source": [
    "data6 = data5.drop('SUBURB',axis='columns')\n",
    "data6.shape"
   ]
  },
  {
   "cell_type": "code",
   "execution_count": 35,
   "id": "c18e5cd0",
   "metadata": {},
   "outputs": [
    {
     "data": {
      "text/plain": [
       "0    565000\n",
       "1    365000\n",
       "2    287000\n",
       "Name: PRICE, dtype: int64"
      ]
     },
     "execution_count": 35,
     "metadata": {},
     "output_type": "execute_result"
    }
   ],
   "source": [
    "X = data6.drop(['PRICE'],axis='columns')\n",
    "y = data6.PRICE\n",
    "y.head(3)"
   ]
  },
  {
   "cell_type": "code",
   "execution_count": 36,
   "id": "c7b777f6",
   "metadata": {},
   "outputs": [],
   "source": [
    "from sklearn.model_selection import train_test_split\n",
    "X_train, X_test, y_train, y_test = train_test_split(X,y,test_size=0.2,random_state=9)"
   ]
  },
  {
   "cell_type": "code",
   "execution_count": 37,
   "id": "5a72e7e2",
   "metadata": {},
   "outputs": [
    {
     "data": {
      "text/plain": [
       "0.8239537165275148"
      ]
     },
     "execution_count": 37,
     "metadata": {},
     "output_type": "execute_result"
    }
   ],
   "source": [
    "from sklearn.linear_model import LinearRegression\n",
    "lr_clf = LinearRegression()\n",
    "lr_clf.fit(X_train,y_train)\n",
    "lr_clf.score(X_test,y_test)"
   ]
  },
  {
   "cell_type": "code",
   "execution_count": 38,
   "id": "efdcba6a",
   "metadata": {},
   "outputs": [
    {
     "data": {
      "text/plain": [
       "array([0.81635466, 0.81640139, 0.82006483, 0.80968009, 0.80942069])"
      ]
     },
     "execution_count": 38,
     "metadata": {},
     "output_type": "execute_result"
    }
   ],
   "source": [
    "from sklearn.model_selection import ShuffleSplit\n",
    "from sklearn.model_selection import cross_val_score\n",
    "\n",
    "cv = ShuffleSplit(n_splits=5, test_size=0.2, random_state=0)\n",
    "\n",
    "cross_val_score(LinearRegression(), X, y, cv=cv)"
   ]
  },
  {
   "cell_type": "code",
   "execution_count": 39,
   "id": "91f9f51a",
   "metadata": {},
   "outputs": [
    {
     "data": {
      "text/plain": [
       "0.5323721178909812"
      ]
     },
     "execution_count": 39,
     "metadata": {},
     "output_type": "execute_result"
    }
   ],
   "source": [
    "from sklearn.tree import DecisionTreeRegressor\n",
    "Dtr =DecisionTreeRegressor()\n",
    "Dtr.fit(X_train,y_train)\n",
    "Dtr.score(X_test,y_test)"
   ]
  },
  {
   "cell_type": "code",
   "execution_count": 40,
   "id": "6a29f8c6",
   "metadata": {},
   "outputs": [
    {
     "data": {
      "text/plain": [
       "0.735315694265136"
      ]
     },
     "execution_count": 40,
     "metadata": {},
     "output_type": "execute_result"
    }
   ],
   "source": [
    "from sklearn.ensemble import RandomForestRegressor\n",
    "rdm = RandomForestRegressor()\n",
    "rdm.fit(X_train,y_train)\n",
    "rdm.score(X_test,y_test)"
   ]
  },
  {
   "cell_type": "code",
   "execution_count": 42,
   "id": "6f41835f",
   "metadata": {},
   "outputs": [
    {
     "data": {
      "text/html": [
       "<div>\n",
       "<style scoped>\n",
       "    .dataframe tbody tr th:only-of-type {\n",
       "        vertical-align: middle;\n",
       "    }\n",
       "\n",
       "    .dataframe tbody tr th {\n",
       "        vertical-align: top;\n",
       "    }\n",
       "\n",
       "    .dataframe thead th {\n",
       "        text-align: right;\n",
       "    }\n",
       "</style>\n",
       "<table border=\"1\" class=\"dataframe\">\n",
       "  <thead>\n",
       "    <tr style=\"text-align: right;\">\n",
       "      <th></th>\n",
       "      <th>BEDROOMS</th>\n",
       "      <th>BATHROOMS</th>\n",
       "      <th>GARAGE</th>\n",
       "      <th>LAND_AREA</th>\n",
       "      <th>FLOOR_AREA</th>\n",
       "      <th>BUILD_YEAR</th>\n",
       "      <th>Alexander Heights</th>\n",
       "      <th>Alfred Cove</th>\n",
       "      <th>Alkimos</th>\n",
       "      <th>Anketell</th>\n",
       "      <th>...</th>\n",
       "      <th>Wilson</th>\n",
       "      <th>Winthrop</th>\n",
       "      <th>Woodbridge</th>\n",
       "      <th>Woodlands</th>\n",
       "      <th>Woodvale</th>\n",
       "      <th>Wooroloo</th>\n",
       "      <th>Wungong</th>\n",
       "      <th>Yanchep</th>\n",
       "      <th>Yangebup</th>\n",
       "      <th>Yokine</th>\n",
       "    </tr>\n",
       "  </thead>\n",
       "  <tbody>\n",
       "    <tr>\n",
       "      <th>0</th>\n",
       "      <td>4</td>\n",
       "      <td>2</td>\n",
       "      <td>2.0</td>\n",
       "      <td>600</td>\n",
       "      <td>160</td>\n",
       "      <td>2003.0</td>\n",
       "      <td>0</td>\n",
       "      <td>0</td>\n",
       "      <td>0</td>\n",
       "      <td>0</td>\n",
       "      <td>...</td>\n",
       "      <td>0</td>\n",
       "      <td>0</td>\n",
       "      <td>0</td>\n",
       "      <td>0</td>\n",
       "      <td>0</td>\n",
       "      <td>0</td>\n",
       "      <td>0</td>\n",
       "      <td>0</td>\n",
       "      <td>0</td>\n",
       "      <td>0</td>\n",
       "    </tr>\n",
       "    <tr>\n",
       "      <th>1</th>\n",
       "      <td>3</td>\n",
       "      <td>2</td>\n",
       "      <td>2.0</td>\n",
       "      <td>351</td>\n",
       "      <td>139</td>\n",
       "      <td>2013.0</td>\n",
       "      <td>0</td>\n",
       "      <td>0</td>\n",
       "      <td>0</td>\n",
       "      <td>0</td>\n",
       "      <td>...</td>\n",
       "      <td>0</td>\n",
       "      <td>0</td>\n",
       "      <td>0</td>\n",
       "      <td>0</td>\n",
       "      <td>0</td>\n",
       "      <td>0</td>\n",
       "      <td>0</td>\n",
       "      <td>0</td>\n",
       "      <td>0</td>\n",
       "      <td>0</td>\n",
       "    </tr>\n",
       "    <tr>\n",
       "      <th>2</th>\n",
       "      <td>3</td>\n",
       "      <td>1</td>\n",
       "      <td>1.0</td>\n",
       "      <td>719</td>\n",
       "      <td>86</td>\n",
       "      <td>1979.0</td>\n",
       "      <td>0</td>\n",
       "      <td>0</td>\n",
       "      <td>0</td>\n",
       "      <td>0</td>\n",
       "      <td>...</td>\n",
       "      <td>0</td>\n",
       "      <td>0</td>\n",
       "      <td>0</td>\n",
       "      <td>0</td>\n",
       "      <td>0</td>\n",
       "      <td>0</td>\n",
       "      <td>0</td>\n",
       "      <td>0</td>\n",
       "      <td>0</td>\n",
       "      <td>0</td>\n",
       "    </tr>\n",
       "  </tbody>\n",
       "</table>\n",
       "<p>3 rows × 319 columns</p>\n",
       "</div>"
      ],
      "text/plain": [
       "   BEDROOMS  BATHROOMS  GARAGE  LAND_AREA  FLOOR_AREA  BUILD_YEAR  \\\n",
       "0         4          2     2.0        600         160      2003.0   \n",
       "1         3          2     2.0        351         139      2013.0   \n",
       "2         3          1     1.0        719          86      1979.0   \n",
       "\n",
       "   Alexander Heights  Alfred Cove  Alkimos  Anketell  ...  Wilson  Winthrop  \\\n",
       "0                  0            0        0         0  ...       0         0   \n",
       "1                  0            0        0         0  ...       0         0   \n",
       "2                  0            0        0         0  ...       0         0   \n",
       "\n",
       "   Woodbridge  Woodlands  Woodvale  Wooroloo  Wungong  Yanchep  Yangebup  \\\n",
       "0           0          0         0         0        0        0         0   \n",
       "1           0          0         0         0        0        0         0   \n",
       "2           0          0         0         0        0        0         0   \n",
       "\n",
       "   Yokine  \n",
       "0       0  \n",
       "1       0  \n",
       "2       0  \n",
       "\n",
       "[3 rows x 319 columns]"
      ]
     },
     "execution_count": 42,
     "metadata": {},
     "output_type": "execute_result"
    }
   ],
   "source": [
    "X.head(3)"
   ]
  },
  {
   "cell_type": "code",
   "execution_count": 43,
   "id": "6f88f766",
   "metadata": {},
   "outputs": [],
   "source": [
    "def predict_price(location,lArea,fArea,bhk,bath,garage,year):    \n",
    "    loc_index = np.where(X.columns==location)[0][0]\n",
    "\n",
    "    x = np.zeros(len(X.columns))\n",
    "    x[0] = bhk\n",
    "    x[1] = bath\n",
    "    x[2] = garage\n",
    "    x[3] = lArea\n",
    "    x[4] = fArea\n",
    "    x[5] = year\n",
    "    if loc_index >= 0:\n",
    "        x[loc_index] = 1\n",
    "\n",
    "    return lr_clf.predict([x])[0]"
   ]
  },
  {
   "cell_type": "code",
   "execution_count": 49,
   "id": "7098830c",
   "metadata": {},
   "outputs": [
    {
     "data": {
      "text/plain": [
       "1043831.5913891704"
      ]
     },
     "execution_count": 49,
     "metadata": {},
     "output_type": "execute_result"
    }
   ],
   "source": [
    "predict_price('South Lake',1000,500, 4, 2 ,2 ,2003)"
   ]
  },
  {
   "cell_type": "code",
   "execution_count": 50,
   "id": "c87a6221",
   "metadata": {},
   "outputs": [],
   "source": [
    "import json\n",
    "columns = {\n",
    "    'data_columns' : [col.lower() for col in X.columns]\n",
    "}\n",
    "with open(\"columns.json\",\"w\") as f:\n",
    "    f.write(json.dumps(columns))"
   ]
  },
  {
   "cell_type": "code",
   "execution_count": 51,
   "id": "50246a1a",
   "metadata": {},
   "outputs": [],
   "source": [
    "import pickle\n",
    "with open('mini_projet.pickle','wb') as f:\n",
    "    pickle.dump(lr_clf,f)"
   ]
  },
  {
   "cell_type": "code",
   "execution_count": 52,
   "id": "78fa27c7",
   "metadata": {},
   "outputs": [
    {
     "data": {
      "text/plain": [
       "array([2003., 2013., 1979., 1953., 2014., 1983., 1999., 1977., 2008.,\n",
       "       2002., 2004., 1985., 1959., 2000., 1972., 2007., 1920., 1981.,\n",
       "       2006., 2012., 1996., 1988., 1974., 1998., 1989., 1978., 2005.,\n",
       "       1991., 2011., 1994., 1960., 2015., 2001., 1945., 2010., 1950.,\n",
       "       1995., 2016., 1965., 1992., 1970., 1975., 1984., 1993., 1958.,\n",
       "       1980., 1990., 1986., 1962., 1900., 2009., 1969., 1982., 1997.,\n",
       "       1935., 1955., 1930., 1966., 1976., 1951., 1964., 1987., 1923.,\n",
       "       1973., 1971., 1961., 1968., 1967., 1928., 1956., 1949., 1946.,\n",
       "       1957., 1952., 1910., 1963., 1927., 1947., 1936., 1940., 1954.,\n",
       "       1937., 1917., 1915., 1924., 1938., 1939., 1912., 1925., 1922.,\n",
       "       1919., 1934., 1948., 1905., 1942., 1921., 1890., 1913., 1918.,\n",
       "       1904., 1870., 1903., 1908., 1929., 1914., 1932., 1926., 1941.,\n",
       "       1933., 1931., 2017., 1894., 1916., 1868., 1886., 1880., 1907.,\n",
       "       1902., 1897., 1943., 1895., 1892., 1901.])"
      ]
     },
     "execution_count": 52,
     "metadata": {},
     "output_type": "execute_result"
    }
   ],
   "source": [
    "data6.BUILD_YEAR.unique()"
   ]
  },
  {
   "cell_type": "code",
   "execution_count": null,
   "id": "0b175530",
   "metadata": {},
   "outputs": [],
   "source": []
  }
 ],
 "metadata": {
  "kernelspec": {
   "display_name": "Python 3 (ipykernel)",
   "language": "python",
   "name": "python3"
  },
  "language_info": {
   "codemirror_mode": {
    "name": "ipython",
    "version": 3
   },
   "file_extension": ".py",
   "mimetype": "text/x-python",
   "name": "python",
   "nbconvert_exporter": "python",
   "pygments_lexer": "ipython3",
   "version": "3.9.7"
  }
 },
 "nbformat": 4,
 "nbformat_minor": 5
}
